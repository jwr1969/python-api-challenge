{
 "cells": [
  {
   "cell_type": "code",
   "execution_count": 11,
   "metadata": {},
   "outputs": [],
   "source": [
    "from citipy import citipy\n",
    "import numpy as np"
   ]
  },
  {
   "cell_type": "code",
   "execution_count": 3,
   "metadata": {},
   "outputs": [],
   "source": [
    "city = citipy.nearest_city(22.99, 120.21)"
   ]
  },
  {
   "cell_type": "code",
   "execution_count": 7,
   "metadata": {},
   "outputs": [
    {
     "data": {
      "text/plain": [
       "'tainan'"
      ]
     },
     "execution_count": 7,
     "metadata": {},
     "output_type": "execute_result"
    }
   ],
   "source": [
    "city.city_name"
   ]
  },
  {
   "cell_type": "code",
   "execution_count": 8,
   "metadata": {},
   "outputs": [
    {
     "data": {
      "text/plain": [
       "'tw'"
      ]
     },
     "execution_count": 8,
     "metadata": {},
     "output_type": "execute_result"
    }
   ],
   "source": [
    "city.country_code"
   ]
  },
  {
   "cell_type": "code",
   "execution_count": 9,
   "metadata": {},
   "outputs": [
    {
     "ename": "AttributeError",
     "evalue": "'City' object has no attribute 'population'",
     "output_type": "error",
     "traceback": [
      "\u001b[1;31m---------------------------------------------------------------------------\u001b[0m",
      "\u001b[1;31mAttributeError\u001b[0m                            Traceback (most recent call last)",
      "\u001b[1;32m<ipython-input-9-db256cf38129>\u001b[0m in \u001b[0;36m<module>\u001b[1;34m\u001b[0m\n\u001b[1;32m----> 1\u001b[1;33m \u001b[0mcity\u001b[0m\u001b[1;33m.\u001b[0m\u001b[0mpopulation\u001b[0m\u001b[1;33m\u001b[0m\u001b[1;33m\u001b[0m\u001b[0m\n\u001b[0m",
      "\u001b[1;31mAttributeError\u001b[0m: 'City' object has no attribute 'population'"
     ]
    }
   ],
   "source": [
    "city.population"
   ]
  },
  {
   "cell_type": "code",
   "execution_count": 30,
   "metadata": {},
   "outputs": [
    {
     "name": "stdout",
     "output_type": "stream",
     "text": [
      "-156,154\n",
      "bluff\n",
      "-153,-112\n",
      "ushuaia\n",
      "5,69\n",
      "eydhafushi\n",
      "54,-23\n",
      "vestmannaeyjar\n",
      "121,-154\n",
      "barrow\n",
      "23,-91\n",
      "progreso\n",
      "1,-136\n",
      "atuona\n",
      "98,-124\n",
      "tuktoyaktuk\n",
      "168,-15\n",
      "barentsburg\n",
      "19,108\n",
      "lingao\n",
      "19,-177\n",
      "kapaa\n",
      "70,149\n",
      "chokurdakh\n",
      "155,-152\n",
      "barrow\n",
      "-127,-68\n",
      "ushuaia\n",
      "127,-60\n",
      "qaanaaq\n",
      "-133,-96\n",
      "ushuaia\n",
      "-152,5\n",
      "bredasdorp\n",
      "-115,-137\n",
      "punta arenas\n",
      "17,2\n",
      "kidal\n",
      "-109,-143\n",
      "mataura\n",
      "-129,70\n",
      "port alfred\n",
      "-166,119\n",
      "hobart\n",
      "-13,3\n",
      "jamestown\n",
      "-172,-43\n",
      "ushuaia\n",
      "110,-165\n",
      "barrow\n",
      "50,-171\n",
      "bethel\n",
      "172,64\n",
      "dikson\n",
      "0,162\n",
      "buala\n",
      "60,78\n",
      "strezhevoy\n",
      "-180,179\n",
      "bluff\n",
      "-111,38\n",
      "port elizabeth\n",
      "-18,-43\n",
      "itamarandiba\n",
      "123,147\n",
      "chokurdakh\n",
      "49,-67\n",
      "cap-chat\n",
      "-43,-5\n",
      "saldanha\n",
      "-138,-89\n",
      "ushuaia\n",
      "10,132\n",
      "meyungs\n",
      "178,62\n",
      "dikson\n",
      "-129,173\n",
      "bluff\n",
      "-180,144\n",
      "bluff\n",
      "18,-170\n",
      "kapaa\n",
      "67,-133\n",
      "inuvik\n",
      "48,91\n",
      "ulaangom\n",
      "119,-73\n",
      "qaanaaq\n",
      "179,13\n",
      "longyearbyen\n",
      "113,63\n",
      "belushya guba\n",
      "-81,-65\n",
      "ushuaia\n",
      "-20,24\n",
      "maun\n",
      "40,-120\n",
      "sun valley\n",
      "-60,176\n",
      "kaitangata\n",
      "-9,10\n",
      "luanda\n",
      "-53,-146\n",
      "mataura\n",
      "-129,-113\n",
      "ushuaia\n",
      "-147,56\n",
      "port alfred\n",
      "-148,-110\n",
      "ushuaia\n",
      "25,-13\n",
      "puerto del rosario\n",
      "-104,-165\n",
      "mataura\n",
      "-159,100\n",
      "albany\n",
      "176,-143\n",
      "barrow\n",
      "101,109\n",
      "saskylakh\n",
      "-50,151\n",
      "hobart\n",
      "51,144\n",
      "katangli\n",
      "34,-110\n",
      "show low\n",
      "153,-20\n",
      "barentsburg\n",
      "-52,146\n",
      "hobart\n",
      "93,-148\n",
      "barrow\n",
      "177,-27\n",
      "illoqqortoormiut\n",
      "-49,1\n",
      "cape town\n",
      "-50,53\n",
      "taolanaro\n",
      "135,166\n",
      "pevek\n",
      "22,-72\n",
      "cockburn harbour\n",
      "-96,54\n",
      "port alfred\n",
      "-62,-153\n",
      "mataura\n",
      "-153,129\n",
      "hobart\n",
      "-140,-139\n",
      "punta arenas\n",
      "-163,-67\n",
      "ushuaia\n",
      "-78,164\n",
      "bluff\n",
      "-123,99\n",
      "albany\n",
      "-146,87\n",
      "albany\n",
      "-67,113\n",
      "albany\n",
      "-178,-121\n",
      "ushuaia\n",
      "48,-9\n",
      "skibbereen\n",
      "-18,-144\n",
      "tautira\n",
      "118,15\n",
      "longyearbyen\n",
      "-77,-71\n",
      "ushuaia\n",
      "63,-45\n",
      "qaqortoq\n",
      "-145,5\n",
      "bredasdorp\n",
      "-118,155\n",
      "bluff\n",
      "35,-25\n",
      "vila franca do campo\n",
      "-177,-14\n",
      "ushuaia\n",
      "-149,-131\n",
      "punta arenas\n",
      "-23,65\n",
      "bambous virieux\n",
      "51,-39\n",
      "nanortalik\n",
      "-150,1\n",
      "hermanus\n",
      "-152,105\n",
      "new norfolk\n",
      "75,-150\n",
      "barrow\n",
      "118,28\n",
      "longyearbyen\n",
      "28,-126\n",
      "lompoc\n",
      "-22,-40\n",
      "sao joao da barra\n",
      "-75,-162\n",
      "mataura\n"
     ]
    }
   ],
   "source": [
    "lat = np.random.randint(low=-180, high=180, size=100)\n",
    "long = np.random.randint(low=-180, high=180, size=100)\n",
    "for x in range(100):\n",
    "    random_coordinates = f\"{lat[x]},{long[x]}\"\n",
    "    print(random_coordinates)\n",
    "    city = citipy.nearest_city(lat[x],long[x])\n",
    "    print(city.city_name)"
   ]
  },
  {
   "cell_type": "code",
   "execution_count": 26,
   "metadata": {},
   "outputs": [],
   "source": [
    "city = citipy.nearest_city(-4,-39)"
   ]
  },
  {
   "cell_type": "code",
   "execution_count": 27,
   "metadata": {},
   "outputs": [
    {
     "data": {
      "text/plain": [
       "'pentecoste'"
      ]
     },
     "execution_count": 27,
     "metadata": {},
     "output_type": "execute_result"
    }
   ],
   "source": [
    "city.city_name"
   ]
  },
  {
   "cell_type": "code",
   "execution_count": 28,
   "metadata": {},
   "outputs": [
    {
     "data": {
      "text/plain": [
       "-17"
      ]
     },
     "execution_count": 28,
     "metadata": {},
     "output_type": "execute_result"
    }
   ],
   "source": [
    "lat[10]"
   ]
  }
 ],
 "metadata": {
  "kernelspec": {
   "display_name": "Python 3",
   "language": "python",
   "name": "python3"
  },
  "language_info": {
   "codemirror_mode": {
    "name": "ipython",
    "version": 3
   },
   "file_extension": ".py",
   "mimetype": "text/x-python",
   "name": "python",
   "nbconvert_exporter": "python",
   "pygments_lexer": "ipython3",
   "version": "3.8.5"
  }
 },
 "nbformat": 4,
 "nbformat_minor": 4
}
